{
  "nbformat": 4,
  "nbformat_minor": 0,
  "metadata": {
    "colab": {
      "name": "WebScraping Project.ipynb",
      "provenance": [],
      "collapsed_sections": [],
      "authorship_tag": "ABX9TyPR/cgD9PsYKHhUnE0d91Dc",
      "include_colab_link": true
    },
    "kernelspec": {
      "name": "python3",
      "display_name": "Python 3"
    },
    "language_info": {
      "name": "python"
    }
  },
  "cells": [
    {
      "cell_type": "markdown",
      "metadata": {
        "id": "view-in-github",
        "colab_type": "text"
      },
      "source": [
        "<a href=\"https://colab.research.google.com/github/Shruthi123581/Shruthi123581/blob/main/WebScraping_Project.ipynb\" target=\"_parent\"><img src=\"https://colab.research.google.com/assets/colab-badge.svg\" alt=\"Open In Colab\"/></a>"
      ]
    },
    {
      "cell_type": "markdown",
      "metadata": {
        "id": "3VX0tQomnhVt"
      },
      "source": [
        "**Web Scraping**\n",
        "\n",
        "Four Basic Steps:\n",
        "\n",
        "->Sending a HTTP GET request to the URL of the webpage by using request library\n",
        "\n",
        "->Fetching and parsing the data using BeautifulSoup and maintain the data in some dict or list\n",
        "\n",
        "->Analyzing the HTML tags and their attributes\n",
        "\n",
        "->Output the data in any file format (.csv,.xlsx,.json)\n"
      ]
    },
    {
      "cell_type": "code",
      "metadata": {
        "colab": {
          "base_uri": "https://localhost:8080/"
        },
        "id": "i8-q5lCSnj-b",
        "outputId": "6ca4623c-d503-46af-9ebc-11d9d16e38f4"
      },
      "source": [
        "#Install BeautifulSoup\n",
        "!pip install bs4"
      ],
      "execution_count": null,
      "outputs": [
        {
          "output_type": "stream",
          "name": "stdout",
          "text": [
            "Requirement already satisfied: bs4 in /usr/local/lib/python3.7/dist-packages (0.0.1)\n",
            "Requirement already satisfied: beautifulsoup4 in /usr/local/lib/python3.7/dist-packages (from bs4) (4.6.3)\n"
          ]
        }
      ]
    },
    {
      "cell_type": "code",
      "metadata": {
        "id": "QodiNo6SnplE"
      },
      "source": [
        "#import the packages\n",
        "import requests\n",
        "from bs4 import BeautifulSoup"
      ],
      "execution_count": null,
      "outputs": []
    },
    {
      "cell_type": "code",
      "metadata": {
        "id": "JALRMwOsns7t"
      },
      "source": [
        "#help(requests)"
      ],
      "execution_count": null,
      "outputs": []
    },
    {
      "cell_type": "code",
      "metadata": {
        "id": "uTLnyBCwoTgS"
      },
      "source": [
        "#enter the url from makaan.com\n",
        "url = \"https://www.makaan.com/hyderabad-residential-property/buy-property-in-hyderabad-city\""
      ],
      "execution_count": null,
      "outputs": []
    },
    {
      "cell_type": "code",
      "metadata": {
        "colab": {
          "base_uri": "https://localhost:8080/"
        },
        "id": "f_FF4E_Fob1q",
        "outputId": "44dc0f6e-56cc-4c73-cb8e-4015e63b2330"
      },
      "source": [
        "request = requests.get(url)\n",
        "request"
      ],
      "execution_count": null,
      "outputs": [
        {
          "output_type": "execute_result",
          "data": {
            "text/plain": [
              "<Response [200]>"
            ]
          },
          "metadata": {},
          "execution_count": 56
        }
      ]
    },
    {
      "cell_type": "code",
      "metadata": {
        "id": "5vasFmcXoerz"
      },
      "source": [
        "#request.content"
      ],
      "execution_count": null,
      "outputs": []
    },
    {
      "cell_type": "code",
      "metadata": {
        "colab": {
          "base_uri": "https://localhost:8080/"
        },
        "id": "QtTlbvmmogkq",
        "outputId": "4cc9de0f-4d45-4453-cc37-ea81b06ae9ac"
      },
      "source": [
        "soup = BeautifulSoup(request.content,'html')\n",
        "#print(soup)\n",
        "print(type(soup))"
      ],
      "execution_count": null,
      "outputs": [
        {
          "output_type": "stream",
          "name": "stdout",
          "text": [
            "<class 'bs4.BeautifulSoup'>\n"
          ]
        }
      ]
    },
    {
      "cell_type": "code",
      "metadata": {
        "id": "QNYhNJVOolwK"
      },
      "source": [
        "#print(soup.prettify)"
      ],
      "execution_count": null,
      "outputs": []
    },
    {
      "cell_type": "code",
      "metadata": {
        "colab": {
          "base_uri": "https://localhost:8080/"
        },
        "id": "A-ipTGkjomui",
        "outputId": "ae28f03e-39aa-4add-ec2b-4d5799f18269"
      },
      "source": [
        "soup.find('span')"
      ],
      "execution_count": null,
      "outputs": [
        {
          "output_type": "execute_result",
          "data": {
            "text/plain": [
              "<span data-target=\"categoryPlaceholder\">buy</span>"
            ]
          },
          "metadata": {},
          "execution_count": 60
        }
      ]
    },
    {
      "cell_type": "code",
      "metadata": {
        "id": "_-T8Wh-5oqZU"
      },
      "source": [
        "#soup.find_all('span')"
      ],
      "execution_count": null,
      "outputs": []
    },
    {
      "cell_type": "code",
      "metadata": {
        "colab": {
          "base_uri": "https://localhost:8080/"
        },
        "id": "8myzajLYotZN",
        "outputId": "146e9c48-c222-4d5e-e91e-4aae8c39c435"
      },
      "source": [
        "soup.find('span',attrs={'class':'seller-type'})"
      ],
      "execution_count": null,
      "outputs": [
        {
          "output_type": "execute_result",
          "data": {
            "text/plain": [
              "<span class=\"seller-type\">BUILDER</span>"
            ]
          },
          "metadata": {},
          "execution_count": 62
        }
      ]
    },
    {
      "cell_type": "code",
      "metadata": {
        "colab": {
          "base_uri": "https://localhost:8080/",
          "height": 35
        },
        "id": "es7Rku98owC7",
        "outputId": "13f1dbf8-7448-48eb-c579-1ac6bc3d66f2"
      },
      "source": [
        "soup.find('span',attrs={'class':'seller-type'}).text"
      ],
      "execution_count": null,
      "outputs": [
        {
          "output_type": "execute_result",
          "data": {
            "application/vnd.google.colaboratory.intrinsic+json": {
              "type": "string"
            },
            "text/plain": [
              "'BUILDER'"
            ]
          },
          "metadata": {},
          "execution_count": 63
        }
      ]
    },
    {
      "cell_type": "code",
      "metadata": {
        "colab": {
          "base_uri": "https://localhost:8080/",
          "height": 35
        },
        "id": "HaLh8eLYoyBL",
        "outputId": "f18630a2-fe54-4415-a9a0-d61745a10771"
      },
      "source": [
        "soup.find('div',attrs={'data-type':'price-link'}).text.strip()"
      ],
      "execution_count": null,
      "outputs": [
        {
          "output_type": "execute_result",
          "data": {
            "application/vnd.google.colaboratory.intrinsic+json": {
              "type": "string"
            },
            "text/plain": [
              "'56.98 L'"
            ]
          },
          "metadata": {},
          "execution_count": 64
        }
      ]
    },
    {
      "cell_type": "code",
      "metadata": {
        "colab": {
          "base_uri": "https://localhost:8080/",
          "height": 35
        },
        "id": "bnu5IMDIo1PE",
        "outputId": "51a14b39-154a-48c0-f7b6-ab5cc30eb215"
      },
      "source": [
        "soup.find('div',attrs={'class':'title-line'}).span.text.strip()"
      ],
      "execution_count": null,
      "outputs": [
        {
          "output_type": "execute_result",
          "data": {
            "application/vnd.google.colaboratory.intrinsic+json": {
              "type": "string"
            },
            "text/plain": [
              "'2'"
            ]
          },
          "metadata": {},
          "execution_count": 72
        }
      ]
    },
    {
      "cell_type": "code",
      "metadata": {
        "colab": {
          "base_uri": "https://localhost:8080/",
          "height": 35
        },
        "id": "IbxZDQbXo4fm",
        "outputId": "92f18ab6-cea3-4ffb-9c99-654297d15800"
      },
      "source": [
        "soup.find('span',attrs={'itemprop':'addressLocality'}).text"
      ],
      "execution_count": null,
      "outputs": [
        {
          "output_type": "execute_result",
          "data": {
            "application/vnd.google.colaboratory.intrinsic+json": {
              "type": "string"
            },
            "text/plain": [
              "'Bachupally'"
            ]
          },
          "metadata": {},
          "execution_count": 66
        }
      ]
    },
    {
      "cell_type": "code",
      "metadata": {
        "colab": {
          "base_uri": "https://localhost:8080/",
          "height": 35
        },
        "id": "Y0kuSDw8pC_I",
        "outputId": "e75b853d-8838-4cab-a1dc-8d6db1ec6069"
      },
      "source": [
        "soup.find('td',attrs={'class':'size'}).text.strip()"
      ],
      "execution_count": null,
      "outputs": [
        {
          "output_type": "execute_result",
          "data": {
            "application/vnd.google.colaboratory.intrinsic+json": {
              "type": "string"
            },
            "text/plain": [
              "'1295'"
            ]
          },
          "metadata": {},
          "execution_count": 67
        }
      ]
    },
    {
      "cell_type": "code",
      "metadata": {
        "colab": {
          "base_uri": "https://localhost:8080/",
          "height": 35
        },
        "id": "MsQb_kQEpH33",
        "outputId": "71f5f2b7-2b23-4bc7-c3cf-79d467483ff3"
      },
      "source": [
        "soup.find('td',attrs={'class':'lbl rate'}).text"
      ],
      "execution_count": null,
      "outputs": [
        {
          "output_type": "execute_result",
          "data": {
            "application/vnd.google.colaboratory.intrinsic+json": {
              "type": "string"
            },
            "text/plain": [
              "'4,400 / sq ft'"
            ]
          },
          "metadata": {},
          "execution_count": 68
        }
      ]
    },
    {
      "cell_type": "code",
      "metadata": {
        "colab": {
          "base_uri": "https://localhost:8080/",
          "height": 35
        },
        "id": "afQPsTOIpS2m",
        "outputId": "fdc7564f-ce03-4f89-e8d2-8ebe0938a016"
      },
      "source": [
        "soup.find('td',attrs={'class':'val'}).text"
      ],
      "execution_count": null,
      "outputs": [
        {
          "output_type": "execute_result",
          "data": {
            "application/vnd.google.colaboratory.intrinsic+json": {
              "type": "string"
            },
            "text/plain": [
              "'Under Construction'"
            ]
          },
          "metadata": {},
          "execution_count": 69
        }
      ]
    },
    {
      "cell_type": "code",
      "metadata": {
        "id": "h-irPNNEwZ98"
      },
      "source": [
        "soup.find('li',attrs={'class':'keypoint',\n",
        "                      'title':'Bathrooms'})\n"
      ],
      "execution_count": null,
      "outputs": []
    },
    {
      "cell_type": "code",
      "metadata": {
        "colab": {
          "base_uri": "https://localhost:8080/"
        },
        "id": "kQQWHwEPsz7A",
        "outputId": "52fa4b9b-494d-44ba-eeee-9f74e5776a17"
      },
      "source": [
        "sel_lst = soup.find_all('span',attrs={'class':'seller-type'})\n",
        "print(sel_lst)\n",
        "print(len(sel_lst))"
      ],
      "execution_count": null,
      "outputs": [
        {
          "output_type": "stream",
          "name": "stdout",
          "text": [
            "[<span class=\"seller-type\">BUILDER</span>, <span class=\"seller-type\">BUILDER</span>, <span class=\"seller-type\">BUILDER</span>, <span class=\"seller-type\">BUILDER</span>, <span class=\"seller-type\">BUILDER</span>, <span class=\"seller-type\">BUILDER</span>, <span class=\"seller-type\">BUILDER</span>, <span class=\"seller-type\">BUILDER</span>, <span class=\"seller-type\">BUILDER</span>, <span class=\"seller-type\">BUILDER</span>, <span class=\"seller-type\">BUILDER</span>, <span class=\"seller-type\">BUILDER</span>, <span class=\"seller-type\">BUILDER</span>, <span class=\"seller-type\">BUILDER</span>, <span class=\"seller-type\">BUILDER</span>, <span class=\"seller-type\">BUILDER</span>, <span class=\"seller-type\">BUILDER</span>, <span class=\"seller-type\">BUILDER</span>, <span class=\"seller-type\">BUILDER</span>, <span class=\"seller-type\">BUILDER</span>]\n",
            "20\n"
          ]
        }
      ]
    },
    {
      "cell_type": "code",
      "metadata": {
        "id": "cSfDfAHEtgSr"
      },
      "source": [
        "#To get the Seller Information\n",
        "sel_info = []\n",
        "for i in sel_lst:\n",
        "  sel_info.append(i.text)\n",
        "#sel_info"
      ],
      "execution_count": null,
      "outputs": []
    },
    {
      "cell_type": "code",
      "metadata": {
        "id": "mjsW9vjSuA9o"
      },
      "source": [
        "#Comprehension\n",
        "sel_info_c = [i.text for i in sel_lst]\n",
        "#sel_info_c"
      ],
      "execution_count": null,
      "outputs": []
    },
    {
      "cell_type": "code",
      "metadata": {
        "id": "I3eJ7r6eulTV"
      },
      "source": [
        "#price evaluation\n",
        "prc_lst = soup.find_all('div',attrs={'data-type':'price-link'})\n",
        "#prc_lst\n",
        "prc_info = [i.text.strip() for i in prc_lst]\n",
        "#prc_info"
      ],
      "execution_count": null,
      "outputs": []
    },
    {
      "cell_type": "code",
      "metadata": {
        "colab": {
          "base_uri": "https://localhost:8080/"
        },
        "id": "BjBwUpf-vWsS",
        "outputId": "f4ed9502-f022-4883-ab7f-ad832662fe75"
      },
      "source": [
        "nbhk_lst = soup.find_all('div',attrs={'class':'title-line'})\n",
        "nbhk_info = [i.span.text.strip() for i in nbhk_lst]\n",
        "#nbhk_info"
      ],
      "execution_count": null,
      "outputs": [
        {
          "output_type": "execute_result",
          "data": {
            "text/plain": [
              "['2',\n",
              " '3',\n",
              " '2',\n",
              " '3',\n",
              " 'Residential Plot',\n",
              " '3',\n",
              " '2',\n",
              " '3',\n",
              " 'Residential Plot',\n",
              " '2',\n",
              " '3',\n",
              " '3',\n",
              " '2',\n",
              " '2',\n",
              " 'Residential Plot',\n",
              " '2',\n",
              " '3',\n",
              " '2',\n",
              " 'Residential Plot',\n",
              " '2']"
            ]
          },
          "metadata": {},
          "execution_count": 88
        }
      ]
    },
    {
      "cell_type": "code",
      "metadata": {
        "id": "BwKcIXpixTnl"
      },
      "source": [
        "#location list \n",
        "loc_lst = soup.find_all('span',attrs={'itemprop':'addressLocality'})\n",
        "loc_info = [i.text for i in loc_lst]\n",
        "#loc_info"
      ],
      "execution_count": null,
      "outputs": []
    },
    {
      "cell_type": "code",
      "metadata": {
        "id": "2K3h02ECx8Pe"
      },
      "source": [
        "#to get the price for sqft\n",
        "prcpsqft_lst = soup.find_all('td',attrs={'class':'lbl rate'})\n",
        "prcpsqft_info = [i.text for i in prcpsqft_lst]\n",
        "#prcpsqft_info"
      ],
      "execution_count": null,
      "outputs": []
    },
    {
      "cell_type": "code",
      "metadata": {
        "id": "lZBQOAcCyW4Z"
      },
      "source": [
        "#to get thea area size\n",
        "area_lst = soup.find_all('td',attrs={'class':'size'})\n",
        "area_info = [i.text for i in area_lst]\n",
        "#area_info"
      ],
      "execution_count": null,
      "outputs": []
    },
    {
      "cell_type": "code",
      "metadata": {
        "id": "kDFEyt_Jyqsi"
      },
      "source": [
        "#to get the construction status\n",
        "cons_lst = soup.find_all('td',attrs={'class':'val'})\n",
        "cons_info = [i.text for i in cons_lst]\n",
        "#cons_info"
      ],
      "execution_count": null,
      "outputs": []
    },
    {
      "cell_type": "code",
      "metadata": {
        "colab": {
          "base_uri": "https://localhost:8080/"
        },
        "id": "GKpcWIaKzG91",
        "outputId": "90b23db8-0354-4b48-9fc4-e55c50ec180b"
      },
      "source": [
        "#To get the no. of bathrooms\n",
        "nbath_lst = soup.find_all('li',attrs={'class':'keypoint','title':'Bathrooms'})\n",
        "nbath_info = [i.text for i in nbath_lst]\n",
        "nbath_info"
      ],
      "execution_count": null,
      "outputs": [
        {
          "output_type": "execute_result",
          "data": {
            "text/plain": [
              "[]"
            ]
          },
          "metadata": {},
          "execution_count": 109
        }
      ]
    },
    {
      "cell_type": "code",
      "metadata": {
        "colab": {
          "base_uri": "https://localhost:8080/"
        },
        "id": "MHf3dcrk0B8h",
        "outputId": "b791dc7e-f4bf-4f05-bb5e-568ee62eaab1"
      },
      "source": [
        "bathr = soup.find_all('ul',attrs={'class':'listing-details'})\n",
        "nbath_info = []\n",
        "for i in bathr:\n",
        "  if i.find('li',attrs={'class':'keypoint','title':'Bathrooms'}) is None:\n",
        "    nbath_info.append(\"Not Mentioned\")\n",
        "  else:\n",
        "    nbath_info.append(i.find('li',attrs={'class':'keypoint','title':'Bathrooms'}).text)\n",
        "nbath_info"
      ],
      "execution_count": null,
      "outputs": [
        {
          "output_type": "execute_result",
          "data": {
            "text/plain": [
              "['Not Mentioned',\n",
              " 'Not Mentioned',\n",
              " 'Not Mentioned',\n",
              " 'Not Mentioned',\n",
              " 'Not Mentioned',\n",
              " 'Not Mentioned',\n",
              " 'Not Mentioned',\n",
              " 'Not Mentioned',\n",
              " 'Not Mentioned',\n",
              " 'Not Mentioned',\n",
              " 'Not Mentioned',\n",
              " 'Not Mentioned',\n",
              " 'Not Mentioned',\n",
              " 'Not Mentioned',\n",
              " 'Not Mentioned',\n",
              " 'Not Mentioned',\n",
              " 'Not Mentioned',\n",
              " 'Not Mentioned',\n",
              " 'Not Mentioned',\n",
              " 'Not Mentioned']"
            ]
          },
          "metadata": {},
          "execution_count": 113
        }
      ]
    },
    {
      "cell_type": "code",
      "metadata": {
        "id": "FZJrp7Pm15TX"
      },
      "source": [
        "import pandas as pd\n",
        "data = pd.DataFrame({\n",
        "    'Seller_info':sel_info_c,\n",
        "    'Price':prc_info,\n",
        "    'Locality':loc_info,\n",
        "    'No_bhk':nbhk_info,\n",
        "    'Price_per_Sqft':prcpsqft_info,\n",
        "    \"Construction_status\":cons_info,\n",
        "    \"Area\":area_info,\n",
        "    \"No_bathrooms\":nbath_info\n",
        "})"
      ],
      "execution_count": null,
      "outputs": []
    },
    {
      "cell_type": "code",
      "metadata": {
        "colab": {
          "base_uri": "https://localhost:8080/",
          "height": 669
        },
        "id": "QsCHjPqD3CM9",
        "outputId": "444d820d-75c1-4063-93ff-8cb7c873ea72"
      },
      "source": [
        "data"
      ],
      "execution_count": null,
      "outputs": [
        {
          "output_type": "execute_result",
          "data": {
            "text/html": [
              "<div>\n",
              "<style scoped>\n",
              "    .dataframe tbody tr th:only-of-type {\n",
              "        vertical-align: middle;\n",
              "    }\n",
              "\n",
              "    .dataframe tbody tr th {\n",
              "        vertical-align: top;\n",
              "    }\n",
              "\n",
              "    .dataframe thead th {\n",
              "        text-align: right;\n",
              "    }\n",
              "</style>\n",
              "<table border=\"1\" class=\"dataframe\">\n",
              "  <thead>\n",
              "    <tr style=\"text-align: right;\">\n",
              "      <th></th>\n",
              "      <th>Seller_info</th>\n",
              "      <th>Price</th>\n",
              "      <th>Locality</th>\n",
              "      <th>No_bhk</th>\n",
              "      <th>Price_per_Sqft</th>\n",
              "      <th>Construction_status</th>\n",
              "      <th>Area</th>\n",
              "      <th>No_bathrooms</th>\n",
              "    </tr>\n",
              "  </thead>\n",
              "  <tbody>\n",
              "    <tr>\n",
              "      <th>0</th>\n",
              "      <td>BUILDER</td>\n",
              "      <td>56.98 L</td>\n",
              "      <td>Bachupally</td>\n",
              "      <td>2</td>\n",
              "      <td>4,400 / sq ft</td>\n",
              "      <td>Under Construction</td>\n",
              "      <td>1295</td>\n",
              "      <td>Not Mentioned</td>\n",
              "    </tr>\n",
              "    <tr>\n",
              "      <th>1</th>\n",
              "      <td>BUILDER</td>\n",
              "      <td>1.11 Cr</td>\n",
              "      <td>Yapral</td>\n",
              "      <td>3</td>\n",
              "      <td>5,400 / sq ft</td>\n",
              "      <td>Under Construction</td>\n",
              "      <td>2070</td>\n",
              "      <td>Not Mentioned</td>\n",
              "    </tr>\n",
              "    <tr>\n",
              "      <th>2</th>\n",
              "      <td>BUILDER</td>\n",
              "      <td>65.48 L</td>\n",
              "      <td>Kompally</td>\n",
              "      <td>2</td>\n",
              "      <td>4,999 / sq ft</td>\n",
              "      <td>Under Construction</td>\n",
              "      <td>1310</td>\n",
              "      <td>Not Mentioned</td>\n",
              "    </tr>\n",
              "    <tr>\n",
              "      <th>3</th>\n",
              "      <td>BUILDER</td>\n",
              "      <td>75.13 L</td>\n",
              "      <td>Mallampet</td>\n",
              "      <td>3</td>\n",
              "      <td>4,999 / sq ft</td>\n",
              "      <td>Under Construction</td>\n",
              "      <td>1503</td>\n",
              "      <td>Not Mentioned</td>\n",
              "    </tr>\n",
              "    <tr>\n",
              "      <th>4</th>\n",
              "      <td>BUILDER</td>\n",
              "      <td>25.05 L</td>\n",
              "      <td>Thimmapur</td>\n",
              "      <td>Residential Plot</td>\n",
              "      <td>1,667 / sq ft</td>\n",
              "      <td>New</td>\n",
              "      <td>1503</td>\n",
              "      <td>Not Mentioned</td>\n",
              "    </tr>\n",
              "    <tr>\n",
              "      <th>5</th>\n",
              "      <td>BUILDER</td>\n",
              "      <td>67.5 L</td>\n",
              "      <td>Sangareddy</td>\n",
              "      <td>3</td>\n",
              "      <td>5,000 / sq ft</td>\n",
              "      <td>Under Construction</td>\n",
              "      <td>1350</td>\n",
              "      <td>Not Mentioned</td>\n",
              "    </tr>\n",
              "    <tr>\n",
              "      <th>6</th>\n",
              "      <td>BUILDER</td>\n",
              "      <td>96 L</td>\n",
              "      <td>Attapur</td>\n",
              "      <td>2</td>\n",
              "      <td>8,184 / sq ft</td>\n",
              "      <td>Under Construction</td>\n",
              "      <td>1173</td>\n",
              "      <td>Not Mentioned</td>\n",
              "    </tr>\n",
              "    <tr>\n",
              "      <th>7</th>\n",
              "      <td>BUILDER</td>\n",
              "      <td>93.25 L</td>\n",
              "      <td>Manikonda</td>\n",
              "      <td>3</td>\n",
              "      <td>5,700 / sq ft</td>\n",
              "      <td>Ready to move</td>\n",
              "      <td>1636</td>\n",
              "      <td>Not Mentioned</td>\n",
              "    </tr>\n",
              "    <tr>\n",
              "      <th>8</th>\n",
              "      <td>BUILDER</td>\n",
              "      <td>54 L</td>\n",
              "      <td>Kothur</td>\n",
              "      <td>Residential Plot</td>\n",
              "      <td>3,000 / sq ft</td>\n",
              "      <td>Resale</td>\n",
              "      <td>1800</td>\n",
              "      <td>Not Mentioned</td>\n",
              "    </tr>\n",
              "    <tr>\n",
              "      <th>9</th>\n",
              "      <td>BUILDER</td>\n",
              "      <td>56.02 L</td>\n",
              "      <td>Ghatkesar</td>\n",
              "      <td>2</td>\n",
              "      <td>4,500 / sq ft</td>\n",
              "      <td>Under Construction</td>\n",
              "      <td>1245</td>\n",
              "      <td>Not Mentioned</td>\n",
              "    </tr>\n",
              "    <tr>\n",
              "      <th>10</th>\n",
              "      <td>BUILDER</td>\n",
              "      <td>70.18 L</td>\n",
              "      <td>Bachupally</td>\n",
              "      <td>3</td>\n",
              "      <td>4,400 / sq ft</td>\n",
              "      <td>Under Construction</td>\n",
              "      <td>1595</td>\n",
              "      <td>Not Mentioned</td>\n",
              "    </tr>\n",
              "    <tr>\n",
              "      <th>11</th>\n",
              "      <td>BUILDER</td>\n",
              "      <td>1.37 Cr</td>\n",
              "      <td>Yapral</td>\n",
              "      <td>3</td>\n",
              "      <td>5,400 / sq ft</td>\n",
              "      <td>Under Construction</td>\n",
              "      <td>2545</td>\n",
              "      <td>Not Mentioned</td>\n",
              "    </tr>\n",
              "    <tr>\n",
              "      <th>12</th>\n",
              "      <td>BUILDER</td>\n",
              "      <td>62.23 L</td>\n",
              "      <td>Kompally</td>\n",
              "      <td>2</td>\n",
              "      <td>4,999 / sq ft</td>\n",
              "      <td>Under Construction</td>\n",
              "      <td>1245</td>\n",
              "      <td>Not Mentioned</td>\n",
              "    </tr>\n",
              "    <tr>\n",
              "      <th>13</th>\n",
              "      <td>BUILDER</td>\n",
              "      <td>55.33 L</td>\n",
              "      <td>Mallampet</td>\n",
              "      <td>2</td>\n",
              "      <td>4,999 / sq ft</td>\n",
              "      <td>Under Construction</td>\n",
              "      <td>1107</td>\n",
              "      <td>Not Mentioned</td>\n",
              "    </tr>\n",
              "    <tr>\n",
              "      <th>14</th>\n",
              "      <td>BUILDER</td>\n",
              "      <td>25.05 L</td>\n",
              "      <td>Thimmapur</td>\n",
              "      <td>Residential Plot</td>\n",
              "      <td>1,667 / sq ft</td>\n",
              "      <td>New</td>\n",
              "      <td>1503</td>\n",
              "      <td>Not Mentioned</td>\n",
              "    </tr>\n",
              "    <tr>\n",
              "      <th>15</th>\n",
              "      <td>BUILDER</td>\n",
              "      <td>55 L</td>\n",
              "      <td>Sangareddy</td>\n",
              "      <td>2</td>\n",
              "      <td>5,000 / sq ft</td>\n",
              "      <td>Under Construction</td>\n",
              "      <td>1100</td>\n",
              "      <td>Not Mentioned</td>\n",
              "    </tr>\n",
              "    <tr>\n",
              "      <th>16</th>\n",
              "      <td>BUILDER</td>\n",
              "      <td>1.4 Cr</td>\n",
              "      <td>Attapur</td>\n",
              "      <td>3</td>\n",
              "      <td>7,878 / sq ft</td>\n",
              "      <td>Under Construction</td>\n",
              "      <td>1777</td>\n",
              "      <td>Not Mentioned</td>\n",
              "    </tr>\n",
              "    <tr>\n",
              "      <th>17</th>\n",
              "      <td>BUILDER</td>\n",
              "      <td>74.55 L</td>\n",
              "      <td>Manikonda</td>\n",
              "      <td>2</td>\n",
              "      <td>5,700 / sq ft</td>\n",
              "      <td>Ready to move</td>\n",
              "      <td>1308</td>\n",
              "      <td>Not Mentioned</td>\n",
              "    </tr>\n",
              "    <tr>\n",
              "      <th>18</th>\n",
              "      <td>BUILDER</td>\n",
              "      <td>54 L</td>\n",
              "      <td>Kothur</td>\n",
              "      <td>Residential Plot</td>\n",
              "      <td>3,000 / sq ft</td>\n",
              "      <td>Resale</td>\n",
              "      <td>1800</td>\n",
              "      <td>Not Mentioned</td>\n",
              "    </tr>\n",
              "    <tr>\n",
              "      <th>19</th>\n",
              "      <td>BUILDER</td>\n",
              "      <td>56.02 L</td>\n",
              "      <td>Ghatkesar</td>\n",
              "      <td>2</td>\n",
              "      <td>4,500 / sq ft</td>\n",
              "      <td>Under Construction</td>\n",
              "      <td>1245</td>\n",
              "      <td>Not Mentioned</td>\n",
              "    </tr>\n",
              "  </tbody>\n",
              "</table>\n",
              "</div>"
            ],
            "text/plain": [
              "   Seller_info    Price    Locality  ... Construction_status   Area   No_bathrooms\n",
              "0      BUILDER  56.98 L  Bachupally  ...  Under Construction  1295   Not Mentioned\n",
              "1      BUILDER  1.11 Cr      Yapral  ...  Under Construction  2070   Not Mentioned\n",
              "2      BUILDER  65.48 L    Kompally  ...  Under Construction  1310   Not Mentioned\n",
              "3      BUILDER  75.13 L   Mallampet  ...  Under Construction  1503   Not Mentioned\n",
              "4      BUILDER  25.05 L   Thimmapur  ...                 New  1503   Not Mentioned\n",
              "5      BUILDER   67.5 L  Sangareddy  ...  Under Construction  1350   Not Mentioned\n",
              "6      BUILDER     96 L     Attapur  ...  Under Construction  1173   Not Mentioned\n",
              "7      BUILDER  93.25 L   Manikonda  ...       Ready to move  1636   Not Mentioned\n",
              "8      BUILDER     54 L      Kothur  ...              Resale  1800   Not Mentioned\n",
              "9      BUILDER  56.02 L   Ghatkesar  ...  Under Construction  1245   Not Mentioned\n",
              "10     BUILDER  70.18 L  Bachupally  ...  Under Construction  1595   Not Mentioned\n",
              "11     BUILDER  1.37 Cr      Yapral  ...  Under Construction  2545   Not Mentioned\n",
              "12     BUILDER  62.23 L    Kompally  ...  Under Construction  1245   Not Mentioned\n",
              "13     BUILDER  55.33 L   Mallampet  ...  Under Construction  1107   Not Mentioned\n",
              "14     BUILDER  25.05 L   Thimmapur  ...                 New  1503   Not Mentioned\n",
              "15     BUILDER     55 L  Sangareddy  ...  Under Construction  1100   Not Mentioned\n",
              "16     BUILDER   1.4 Cr     Attapur  ...  Under Construction  1777   Not Mentioned\n",
              "17     BUILDER  74.55 L   Manikonda  ...       Ready to move  1308   Not Mentioned\n",
              "18     BUILDER     54 L      Kothur  ...              Resale  1800   Not Mentioned\n",
              "19     BUILDER  56.02 L   Ghatkesar  ...  Under Construction  1245   Not Mentioned\n",
              "\n",
              "[20 rows x 8 columns]"
            ]
          },
          "metadata": {},
          "execution_count": 117
        }
      ]
    },
    {
      "cell_type": "code",
      "metadata": {
        "id": "A_8D0eq_3MDn"
      },
      "source": [
        "data.head() #top 5 rows "
      ],
      "execution_count": null,
      "outputs": []
    },
    {
      "cell_type": "code",
      "metadata": {
        "id": "uCe08S_H3md2"
      },
      "source": [
        "data.to_csv('Aprmntshyd.csv')"
      ],
      "execution_count": null,
      "outputs": []
    }
  ]
}